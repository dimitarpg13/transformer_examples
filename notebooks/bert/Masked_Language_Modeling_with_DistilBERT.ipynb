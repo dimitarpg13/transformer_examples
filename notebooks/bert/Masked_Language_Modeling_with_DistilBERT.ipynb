{
  "nbformat": 4,
  "nbformat_minor": 0,
  "metadata": {
    "colab": {
      "provenance": [],
      "authorship_tag": "ABX9TyNPE/NeHrrzzVHBB4DPvJcq",
      "include_colab_link": true
    },
    "kernelspec": {
      "name": "python3",
      "display_name": "Python 3"
    },
    "language_info": {
      "name": "python"
    },
    "widgets": {
      "application/vnd.jupyter.widget-state+json": {
        "64673a21f37845d2b21a2317a2ef803d": {
          "model_module": "@jupyter-widgets/controls",
          "model_name": "VBoxModel",
          "model_module_version": "1.5.0",
          "state": {
            "_dom_classes": [],
            "_model_module": "@jupyter-widgets/controls",
            "_model_module_version": "1.5.0",
            "_model_name": "VBoxModel",
            "_view_count": null,
            "_view_module": "@jupyter-widgets/controls",
            "_view_module_version": "1.5.0",
            "_view_name": "VBoxView",
            "box_style": "",
            "children": [],
            "layout": "IPY_MODEL_92c29c42671c47fcb19aeb771f4c3b13"
          }
        },
        "2e5c58ae5eb94fae93864d14741439e5": {
          "model_module": "@jupyter-widgets/controls",
          "model_name": "HTMLModel",
          "model_module_version": "1.5.0",
          "state": {
            "_dom_classes": [],
            "_model_module": "@jupyter-widgets/controls",
            "_model_module_version": "1.5.0",
            "_model_name": "HTMLModel",
            "_view_count": null,
            "_view_module": "@jupyter-widgets/controls",
            "_view_module_version": "1.5.0",
            "_view_name": "HTMLView",
            "description": "",
            "description_tooltip": null,
            "layout": "IPY_MODEL_dce74cf13d66459dac85c764a288cc21",
            "placeholder": "​",
            "style": "IPY_MODEL_ddd5bbbeeabb455ea7891257dc9d4aad",
            "value": "<center> <img\nsrc=https://huggingface.co/front/assets/huggingface_logo-noborder.svg\nalt='Hugging Face'> <br> Copy a token from <a\nhref=\"https://huggingface.co/settings/tokens\" target=\"_blank\">your Hugging Face\ntokens page</a> and paste it below. <br> Immediately click login after copying\nyour token or it might be stored in plain text in this notebook file. </center>"
          }
        },
        "085b124a0f73448d84d18c2fac9573c9": {
          "model_module": "@jupyter-widgets/controls",
          "model_name": "PasswordModel",
          "model_module_version": "1.5.0",
          "state": {
            "_dom_classes": [],
            "_model_module": "@jupyter-widgets/controls",
            "_model_module_version": "1.5.0",
            "_model_name": "PasswordModel",
            "_view_count": null,
            "_view_module": "@jupyter-widgets/controls",
            "_view_module_version": "1.5.0",
            "_view_name": "PasswordView",
            "continuous_update": true,
            "description": "Token:",
            "description_tooltip": null,
            "disabled": false,
            "layout": "IPY_MODEL_991548f9f3904d5d8793e745b79bad42",
            "placeholder": "​",
            "style": "IPY_MODEL_54d52f0977fb4cb4a19df146bd158206",
            "value": ""
          }
        },
        "c7f0ce37711240fbb731b20edc8b158e": {
          "model_module": "@jupyter-widgets/controls",
          "model_name": "CheckboxModel",
          "model_module_version": "1.5.0",
          "state": {
            "_dom_classes": [],
            "_model_module": "@jupyter-widgets/controls",
            "_model_module_version": "1.5.0",
            "_model_name": "CheckboxModel",
            "_view_count": null,
            "_view_module": "@jupyter-widgets/controls",
            "_view_module_version": "1.5.0",
            "_view_name": "CheckboxView",
            "description": "Add token as git credential?",
            "description_tooltip": null,
            "disabled": false,
            "indent": true,
            "layout": "IPY_MODEL_3fb24973fafb4a4381b3d8e10aa446a6",
            "style": "IPY_MODEL_fbfb30e5a14c4b4d8d0ad459607a1b57",
            "value": true
          }
        },
        "2d7307cd4fdf48d5b113fc2b0501658a": {
          "model_module": "@jupyter-widgets/controls",
          "model_name": "ButtonModel",
          "model_module_version": "1.5.0",
          "state": {
            "_dom_classes": [],
            "_model_module": "@jupyter-widgets/controls",
            "_model_module_version": "1.5.0",
            "_model_name": "ButtonModel",
            "_view_count": null,
            "_view_module": "@jupyter-widgets/controls",
            "_view_module_version": "1.5.0",
            "_view_name": "ButtonView",
            "button_style": "",
            "description": "Login",
            "disabled": false,
            "icon": "",
            "layout": "IPY_MODEL_dbfd46eaf95742a7ae38b14bc44dc50c",
            "style": "IPY_MODEL_10ea08eafdc44521a03d5fdd5bdc4331",
            "tooltip": ""
          }
        },
        "f3f43763594f40b399027a32d4c86dd9": {
          "model_module": "@jupyter-widgets/controls",
          "model_name": "HTMLModel",
          "model_module_version": "1.5.0",
          "state": {
            "_dom_classes": [],
            "_model_module": "@jupyter-widgets/controls",
            "_model_module_version": "1.5.0",
            "_model_name": "HTMLModel",
            "_view_count": null,
            "_view_module": "@jupyter-widgets/controls",
            "_view_module_version": "1.5.0",
            "_view_name": "HTMLView",
            "description": "",
            "description_tooltip": null,
            "layout": "IPY_MODEL_a6031367d14b4a2ea7af0f876a96d44b",
            "placeholder": "​",
            "style": "IPY_MODEL_0c081d4ac56c404794a4df06fcdffbd3",
            "value": "\n<b>Pro Tip:</b> If you don't already have one, you can create a dedicated\n'notebooks' token with 'write' access, that you can then easily reuse for all\nnotebooks. </center>"
          }
        },
        "92c29c42671c47fcb19aeb771f4c3b13": {
          "model_module": "@jupyter-widgets/base",
          "model_name": "LayoutModel",
          "model_module_version": "1.2.0",
          "state": {
            "_model_module": "@jupyter-widgets/base",
            "_model_module_version": "1.2.0",
            "_model_name": "LayoutModel",
            "_view_count": null,
            "_view_module": "@jupyter-widgets/base",
            "_view_module_version": "1.2.0",
            "_view_name": "LayoutView",
            "align_content": null,
            "align_items": "center",
            "align_self": null,
            "border": null,
            "bottom": null,
            "display": "flex",
            "flex": null,
            "flex_flow": "column",
            "grid_area": null,
            "grid_auto_columns": null,
            "grid_auto_flow": null,
            "grid_auto_rows": null,
            "grid_column": null,
            "grid_gap": null,
            "grid_row": null,
            "grid_template_areas": null,
            "grid_template_columns": null,
            "grid_template_rows": null,
            "height": null,
            "justify_content": null,
            "justify_items": null,
            "left": null,
            "margin": null,
            "max_height": null,
            "max_width": null,
            "min_height": null,
            "min_width": null,
            "object_fit": null,
            "object_position": null,
            "order": null,
            "overflow": null,
            "overflow_x": null,
            "overflow_y": null,
            "padding": null,
            "right": null,
            "top": null,
            "visibility": null,
            "width": "50%"
          }
        },
        "dce74cf13d66459dac85c764a288cc21": {
          "model_module": "@jupyter-widgets/base",
          "model_name": "LayoutModel",
          "model_module_version": "1.2.0",
          "state": {
            "_model_module": "@jupyter-widgets/base",
            "_model_module_version": "1.2.0",
            "_model_name": "LayoutModel",
            "_view_count": null,
            "_view_module": "@jupyter-widgets/base",
            "_view_module_version": "1.2.0",
            "_view_name": "LayoutView",
            "align_content": null,
            "align_items": null,
            "align_self": null,
            "border": null,
            "bottom": null,
            "display": null,
            "flex": null,
            "flex_flow": null,
            "grid_area": null,
            "grid_auto_columns": null,
            "grid_auto_flow": null,
            "grid_auto_rows": null,
            "grid_column": null,
            "grid_gap": null,
            "grid_row": null,
            "grid_template_areas": null,
            "grid_template_columns": null,
            "grid_template_rows": null,
            "height": null,
            "justify_content": null,
            "justify_items": null,
            "left": null,
            "margin": null,
            "max_height": null,
            "max_width": null,
            "min_height": null,
            "min_width": null,
            "object_fit": null,
            "object_position": null,
            "order": null,
            "overflow": null,
            "overflow_x": null,
            "overflow_y": null,
            "padding": null,
            "right": null,
            "top": null,
            "visibility": null,
            "width": null
          }
        },
        "ddd5bbbeeabb455ea7891257dc9d4aad": {
          "model_module": "@jupyter-widgets/controls",
          "model_name": "DescriptionStyleModel",
          "model_module_version": "1.5.0",
          "state": {
            "_model_module": "@jupyter-widgets/controls",
            "_model_module_version": "1.5.0",
            "_model_name": "DescriptionStyleModel",
            "_view_count": null,
            "_view_module": "@jupyter-widgets/base",
            "_view_module_version": "1.2.0",
            "_view_name": "StyleView",
            "description_width": ""
          }
        },
        "991548f9f3904d5d8793e745b79bad42": {
          "model_module": "@jupyter-widgets/base",
          "model_name": "LayoutModel",
          "model_module_version": "1.2.0",
          "state": {
            "_model_module": "@jupyter-widgets/base",
            "_model_module_version": "1.2.0",
            "_model_name": "LayoutModel",
            "_view_count": null,
            "_view_module": "@jupyter-widgets/base",
            "_view_module_version": "1.2.0",
            "_view_name": "LayoutView",
            "align_content": null,
            "align_items": null,
            "align_self": null,
            "border": null,
            "bottom": null,
            "display": null,
            "flex": null,
            "flex_flow": null,
            "grid_area": null,
            "grid_auto_columns": null,
            "grid_auto_flow": null,
            "grid_auto_rows": null,
            "grid_column": null,
            "grid_gap": null,
            "grid_row": null,
            "grid_template_areas": null,
            "grid_template_columns": null,
            "grid_template_rows": null,
            "height": null,
            "justify_content": null,
            "justify_items": null,
            "left": null,
            "margin": null,
            "max_height": null,
            "max_width": null,
            "min_height": null,
            "min_width": null,
            "object_fit": null,
            "object_position": null,
            "order": null,
            "overflow": null,
            "overflow_x": null,
            "overflow_y": null,
            "padding": null,
            "right": null,
            "top": null,
            "visibility": null,
            "width": null
          }
        },
        "54d52f0977fb4cb4a19df146bd158206": {
          "model_module": "@jupyter-widgets/controls",
          "model_name": "DescriptionStyleModel",
          "model_module_version": "1.5.0",
          "state": {
            "_model_module": "@jupyter-widgets/controls",
            "_model_module_version": "1.5.0",
            "_model_name": "DescriptionStyleModel",
            "_view_count": null,
            "_view_module": "@jupyter-widgets/base",
            "_view_module_version": "1.2.0",
            "_view_name": "StyleView",
            "description_width": ""
          }
        },
        "3fb24973fafb4a4381b3d8e10aa446a6": {
          "model_module": "@jupyter-widgets/base",
          "model_name": "LayoutModel",
          "model_module_version": "1.2.0",
          "state": {
            "_model_module": "@jupyter-widgets/base",
            "_model_module_version": "1.2.0",
            "_model_name": "LayoutModel",
            "_view_count": null,
            "_view_module": "@jupyter-widgets/base",
            "_view_module_version": "1.2.0",
            "_view_name": "LayoutView",
            "align_content": null,
            "align_items": null,
            "align_self": null,
            "border": null,
            "bottom": null,
            "display": null,
            "flex": null,
            "flex_flow": null,
            "grid_area": null,
            "grid_auto_columns": null,
            "grid_auto_flow": null,
            "grid_auto_rows": null,
            "grid_column": null,
            "grid_gap": null,
            "grid_row": null,
            "grid_template_areas": null,
            "grid_template_columns": null,
            "grid_template_rows": null,
            "height": null,
            "justify_content": null,
            "justify_items": null,
            "left": null,
            "margin": null,
            "max_height": null,
            "max_width": null,
            "min_height": null,
            "min_width": null,
            "object_fit": null,
            "object_position": null,
            "order": null,
            "overflow": null,
            "overflow_x": null,
            "overflow_y": null,
            "padding": null,
            "right": null,
            "top": null,
            "visibility": null,
            "width": null
          }
        },
        "fbfb30e5a14c4b4d8d0ad459607a1b57": {
          "model_module": "@jupyter-widgets/controls",
          "model_name": "DescriptionStyleModel",
          "model_module_version": "1.5.0",
          "state": {
            "_model_module": "@jupyter-widgets/controls",
            "_model_module_version": "1.5.0",
            "_model_name": "DescriptionStyleModel",
            "_view_count": null,
            "_view_module": "@jupyter-widgets/base",
            "_view_module_version": "1.2.0",
            "_view_name": "StyleView",
            "description_width": ""
          }
        },
        "dbfd46eaf95742a7ae38b14bc44dc50c": {
          "model_module": "@jupyter-widgets/base",
          "model_name": "LayoutModel",
          "model_module_version": "1.2.0",
          "state": {
            "_model_module": "@jupyter-widgets/base",
            "_model_module_version": "1.2.0",
            "_model_name": "LayoutModel",
            "_view_count": null,
            "_view_module": "@jupyter-widgets/base",
            "_view_module_version": "1.2.0",
            "_view_name": "LayoutView",
            "align_content": null,
            "align_items": null,
            "align_self": null,
            "border": null,
            "bottom": null,
            "display": null,
            "flex": null,
            "flex_flow": null,
            "grid_area": null,
            "grid_auto_columns": null,
            "grid_auto_flow": null,
            "grid_auto_rows": null,
            "grid_column": null,
            "grid_gap": null,
            "grid_row": null,
            "grid_template_areas": null,
            "grid_template_columns": null,
            "grid_template_rows": null,
            "height": null,
            "justify_content": null,
            "justify_items": null,
            "left": null,
            "margin": null,
            "max_height": null,
            "max_width": null,
            "min_height": null,
            "min_width": null,
            "object_fit": null,
            "object_position": null,
            "order": null,
            "overflow": null,
            "overflow_x": null,
            "overflow_y": null,
            "padding": null,
            "right": null,
            "top": null,
            "visibility": null,
            "width": null
          }
        },
        "10ea08eafdc44521a03d5fdd5bdc4331": {
          "model_module": "@jupyter-widgets/controls",
          "model_name": "ButtonStyleModel",
          "model_module_version": "1.5.0",
          "state": {
            "_model_module": "@jupyter-widgets/controls",
            "_model_module_version": "1.5.0",
            "_model_name": "ButtonStyleModel",
            "_view_count": null,
            "_view_module": "@jupyter-widgets/base",
            "_view_module_version": "1.2.0",
            "_view_name": "StyleView",
            "button_color": null,
            "font_weight": ""
          }
        },
        "a6031367d14b4a2ea7af0f876a96d44b": {
          "model_module": "@jupyter-widgets/base",
          "model_name": "LayoutModel",
          "model_module_version": "1.2.0",
          "state": {
            "_model_module": "@jupyter-widgets/base",
            "_model_module_version": "1.2.0",
            "_model_name": "LayoutModel",
            "_view_count": null,
            "_view_module": "@jupyter-widgets/base",
            "_view_module_version": "1.2.0",
            "_view_name": "LayoutView",
            "align_content": null,
            "align_items": null,
            "align_self": null,
            "border": null,
            "bottom": null,
            "display": null,
            "flex": null,
            "flex_flow": null,
            "grid_area": null,
            "grid_auto_columns": null,
            "grid_auto_flow": null,
            "grid_auto_rows": null,
            "grid_column": null,
            "grid_gap": null,
            "grid_row": null,
            "grid_template_areas": null,
            "grid_template_columns": null,
            "grid_template_rows": null,
            "height": null,
            "justify_content": null,
            "justify_items": null,
            "left": null,
            "margin": null,
            "max_height": null,
            "max_width": null,
            "min_height": null,
            "min_width": null,
            "object_fit": null,
            "object_position": null,
            "order": null,
            "overflow": null,
            "overflow_x": null,
            "overflow_y": null,
            "padding": null,
            "right": null,
            "top": null,
            "visibility": null,
            "width": null
          }
        },
        "0c081d4ac56c404794a4df06fcdffbd3": {
          "model_module": "@jupyter-widgets/controls",
          "model_name": "DescriptionStyleModel",
          "model_module_version": "1.5.0",
          "state": {
            "_model_module": "@jupyter-widgets/controls",
            "_model_module_version": "1.5.0",
            "_model_name": "DescriptionStyleModel",
            "_view_count": null,
            "_view_module": "@jupyter-widgets/base",
            "_view_module_version": "1.2.0",
            "_view_name": "StyleView",
            "description_width": ""
          }
        },
        "c561c1eabcd949a2abc71326ad8e7d0a": {
          "model_module": "@jupyter-widgets/controls",
          "model_name": "LabelModel",
          "model_module_version": "1.5.0",
          "state": {
            "_dom_classes": [],
            "_model_module": "@jupyter-widgets/controls",
            "_model_module_version": "1.5.0",
            "_model_name": "LabelModel",
            "_view_count": null,
            "_view_module": "@jupyter-widgets/controls",
            "_view_module_version": "1.5.0",
            "_view_name": "LabelView",
            "description": "",
            "description_tooltip": null,
            "layout": "IPY_MODEL_3f4c11ce912f4181ba5fcf3166b3b265",
            "placeholder": "​",
            "style": "IPY_MODEL_55bb9c843b394db1b040850ee4dd410e",
            "value": "Connecting..."
          }
        },
        "3f4c11ce912f4181ba5fcf3166b3b265": {
          "model_module": "@jupyter-widgets/base",
          "model_name": "LayoutModel",
          "model_module_version": "1.2.0",
          "state": {
            "_model_module": "@jupyter-widgets/base",
            "_model_module_version": "1.2.0",
            "_model_name": "LayoutModel",
            "_view_count": null,
            "_view_module": "@jupyter-widgets/base",
            "_view_module_version": "1.2.0",
            "_view_name": "LayoutView",
            "align_content": null,
            "align_items": null,
            "align_self": null,
            "border": null,
            "bottom": null,
            "display": null,
            "flex": null,
            "flex_flow": null,
            "grid_area": null,
            "grid_auto_columns": null,
            "grid_auto_flow": null,
            "grid_auto_rows": null,
            "grid_column": null,
            "grid_gap": null,
            "grid_row": null,
            "grid_template_areas": null,
            "grid_template_columns": null,
            "grid_template_rows": null,
            "height": null,
            "justify_content": null,
            "justify_items": null,
            "left": null,
            "margin": null,
            "max_height": null,
            "max_width": null,
            "min_height": null,
            "min_width": null,
            "object_fit": null,
            "object_position": null,
            "order": null,
            "overflow": null,
            "overflow_x": null,
            "overflow_y": null,
            "padding": null,
            "right": null,
            "top": null,
            "visibility": null,
            "width": null
          }
        },
        "55bb9c843b394db1b040850ee4dd410e": {
          "model_module": "@jupyter-widgets/controls",
          "model_name": "DescriptionStyleModel",
          "model_module_version": "1.5.0",
          "state": {
            "_model_module": "@jupyter-widgets/controls",
            "_model_module_version": "1.5.0",
            "_model_name": "DescriptionStyleModel",
            "_view_count": null,
            "_view_module": "@jupyter-widgets/base",
            "_view_module_version": "1.2.0",
            "_view_name": "StyleView",
            "description_width": ""
          }
        }
      }
    }
  },
  "cells": [
    {
      "cell_type": "markdown",
      "metadata": {
        "id": "view-in-github",
        "colab_type": "text"
      },
      "source": [
        "<a href=\"https://colab.research.google.com/github/dimitarpg13/transformer_examples/blob/main/notebooks/bert/Masked_Language_Modeling_with_DistilBERT.ipynb\" target=\"_parent\"><img src=\"https://colab.research.google.com/assets/colab-badge.svg\" alt=\"Open In Colab\"/></a>"
      ]
    },
    {
      "cell_type": "markdown",
      "source": [
        "## Masked Language Modeling\n",
        "\n",
        "Masked Language Modeling predicts which words fits best a blanked words in a given sentence. These models take sentences with blanked text as input and their output are the possible values of the text for that mask. These models can attend to tokens bidirectionally. This means the model has full access o the tokens on the left and the right. Masked Language modeling is used before fine-tuning the model for the specific task at hand. For example, if you need to use a model in a specific domain models like BERT will treat the domain-specific words as rare tokens. Then one can train the masked language model using the corpus of words for the specific domain and then fine-tune the model on a downstream task then we will end up with better performing model; that is model with higher inference accuracy given the amount of training time and word corpus. Wtth regard to classification metrics there is no single correct answer. We evaulate the distribution of the masked values. Common metrics are cross-entropy loss and perplexity.\n",
        "\n",
        "We can use any plain text dataset and tokenize the text to mask the data."
      ],
      "metadata": {
        "id": "2jRHgf7aeUvH"
      }
    },
    {
      "cell_type": "markdown",
      "source": [
        "Next we will tune [DistillRoBERTa](https://huggingface.co/distilbert/distilroberta-base) on the [r/askscience](https://www.reddit.com/r/askscience/) subset of the [ELI5](https://facebookresearch.github.io/ELI5/) dataset.\n",
        "\n",
        "We will start by loading the first 5,000 examples with the [ELI5-Category](https://huggingface.co/datasets/rexarski/eli5_category) Dataset using the Datasets library. But first we take care of installing the necessary libraries:\n",
        "\n"
      ],
      "metadata": {
        "id": "0_ipW5pDoThp"
      }
    },
    {
      "cell_type": "code",
      "source": [
        "%pip install transformers datasets evaluate\n",
        "\n",
        "%pip install datasets==2.16.0"
      ],
      "metadata": {
        "id": "ZdLTjFuPeTxY"
      },
      "execution_count": null,
      "outputs": []
    },
    {
      "cell_type": "code",
      "source": [
        "from huggingface_hub import notebook_login\n",
        "\n",
        "notebook_login()"
      ],
      "metadata": {
        "colab": {
          "base_uri": "https://localhost:8080/",
          "height": 17,
          "referenced_widgets": [
            "64673a21f37845d2b21a2317a2ef803d",
            "2e5c58ae5eb94fae93864d14741439e5",
            "085b124a0f73448d84d18c2fac9573c9",
            "c7f0ce37711240fbb731b20edc8b158e",
            "2d7307cd4fdf48d5b113fc2b0501658a",
            "f3f43763594f40b399027a32d4c86dd9",
            "92c29c42671c47fcb19aeb771f4c3b13",
            "dce74cf13d66459dac85c764a288cc21",
            "ddd5bbbeeabb455ea7891257dc9d4aad",
            "991548f9f3904d5d8793e745b79bad42",
            "54d52f0977fb4cb4a19df146bd158206",
            "3fb24973fafb4a4381b3d8e10aa446a6",
            "fbfb30e5a14c4b4d8d0ad459607a1b57",
            "dbfd46eaf95742a7ae38b14bc44dc50c",
            "10ea08eafdc44521a03d5fdd5bdc4331",
            "a6031367d14b4a2ea7af0f876a96d44b",
            "0c081d4ac56c404794a4df06fcdffbd3",
            "c561c1eabcd949a2abc71326ad8e7d0a",
            "3f4c11ce912f4181ba5fcf3166b3b265",
            "55bb9c843b394db1b040850ee4dd410e"
          ]
        },
        "id": "vGoRyg-sLY0-",
        "outputId": "62db3679-b84b-4d66-b43b-d81c9e374b48"
      },
      "execution_count": 2,
      "outputs": [
        {
          "output_type": "display_data",
          "data": {
            "text/plain": [
              "VBox(children=(HTML(value='<center> <img\\nsrc=https://huggingface.co/front/assets/huggingface_logo-noborder.sv…"
            ],
            "application/vnd.jupyter.widget-view+json": {
              "version_major": 2,
              "version_minor": 0,
              "model_id": "64673a21f37845d2b21a2317a2ef803d"
            }
          },
          "metadata": {}
        }
      ]
    },
    {
      "cell_type": "code",
      "source": [
        "from datasets import load_dataset\n",
        "\n",
        "eli5 = load_dataset(\"eli5_category\", split=\"train[:5000]\")"
      ],
      "metadata": {
        "id": "dLjzXFB9p29K"
      },
      "execution_count": null,
      "outputs": []
    },
    {
      "cell_type": "code",
      "source": [
        "eli5 = eli5.train_test_split(test_size=0.2)"
      ],
      "metadata": {
        "id": "_Qyl-DoMqLyc"
      },
      "execution_count": 4,
      "outputs": []
    },
    {
      "cell_type": "code",
      "source": [
        "eli5[\"train\"][0]"
      ],
      "metadata": {
        "colab": {
          "base_uri": "https://localhost:8080/"
        },
        "id": "eKZo9JATrEL3",
        "outputId": "0f8a77ca-315b-4fa9-b805-d60706bcae73"
      },
      "execution_count": 5,
      "outputs": [
        {
          "output_type": "execute_result",
          "data": {
            "text/plain": [
              "{'q_id': '7fcg3w',\n",
              " 'title': \"Why is it when a woman gets an epidural, there's a chance she'll always have some sort of pain that can't be treated for the rest of her life?\",\n",
              " 'selftext': '',\n",
              " 'category': 'Biology',\n",
              " 'subreddit': 'explainlikeimfive',\n",
              " 'answers': {'a_id': ['dqb0b2w'],\n",
              "  'text': ['An epidural works by injecting medication directly into the space around the spinal chord. That means if anything goes wrong, it can directly damage the nerves of the spinal chord. That can lead to all kinds of complications.'],\n",
              "  'score': [10],\n",
              "  'text_urls': [[]]},\n",
              " 'title_urls': ['url'],\n",
              " 'selftext_urls': ['url']}"
            ]
          },
          "metadata": {},
          "execution_count": 5
        }
      ]
    },
    {
      "cell_type": "markdown",
      "source": [
        "## Processing a dataset for masked language modeling\n",
        "\n",
        "Example:\n",
        "\n",
        "`[My] [name] [MASK] [Sylvain] [.]`\n",
        "               \n",
        "                  |\n",
        "                  V\n",
        "                 [is]\n",
        "\n",
        "`[I] [MASK] [at] [Hug] [##ging] [Face] [.]`\n",
        "\n",
        "          |\n",
        "          V\n",
        "        [work]\n",
        "\n",
        "We need to fill the masks\n",
        "\n",
        "```python\n",
        "from datasets import load_dataset\n",
        "\n",
        "raw_datasets = load_dataset(\"wikitext\", \"wikitext-2-raw-v1\")\n",
        "raw_datasets[\"train\"]\n",
        "\n",
        "Dataset({\n",
        "  features: ['text'],\n",
        "  num_rows: 36718\n",
        "})\n",
        "```\n",
        "\n",
        "Gather all of the text in one column in your dataset. Before we start the masking process we need to make all of the text the same length to batch them together. The first way to make the text the same length is the way we do that in text classification tasks - pad the short text sentences and truncate the long text sentences.\n",
        "\n",
        "Example:\n",
        "\n",
        "`[CLS] [My] [name] [is] [Sylvain] [.] [SEP]`\n",
        "\n",
        "`[CLS] [I] [MASK] [at] [Hug] [##ging] [SEP]`\n",
        "\n",
        "`[CLS] [Short] [text] [PAD] [PAD] [PAD] [SEP]`\n",
        "\n",
        "As we have seen when we repurpose data for text classification\n",
        "\n",
        "```python\n",
        "from datasets import load_dataset\n",
        "from transformers import AutoTokenizer\n",
        "\n",
        "raw_datasets = load_dataset(\"imdb\")\n",
        "raw_datasets = raw_datasets.remove_columns(\"label\")\n",
        "\n",
        "model_checkpoint = \"distilbert-base-cased\"\n",
        "tokenizer = AutoTokenizer.from_pretrained(model_checkpoint)\n",
        "context_length = 128\n",
        "\n",
        "def tokenize_pad_and_truncate(texts):\n",
        "  return tokenizer(texts[\"text\"], truncation=True, padding=\"max length\", max_length=context_length)\n",
        "\n",
        "tokenized_datasets = raw_datasets.map(tokenize_pad_and_truncate, batched=True)\n",
        "\n",
        "```\n",
        "This padding and truncation is done automatically by `AutoTokenizer`.\n",
        "However, using `AutoTokenizer` we are going to loose a lot of text if the datasets are very long compared to the context length we have picked.\n",
        "\n",
        "![Figure: chunking on context length pieces](https://github.com/dimitarpg13/transformer_examples/blob/main/images/chunking_on_context_length_pieces.png?raw=1)\n",
        "\n",
        "We can chunk in pieces of length equal to the context length instead of discarding everything after the first chunk. We may end up with a remainder which we can keep in a end pad or ignore.\n",
        "\n",
        "We can implement this in practice with the following code which sets `return_overflowing_tokens` to `True` in the `tokenzier` call:\n",
        "\n",
        "```python\n",
        "def tokenize_and_chunk(texts):\n",
        "  return tokenizer(\n",
        "     texts[\"text\"], truncation=True, max_length=context_length,\n",
        "     return_overflowing_tokens=True\n",
        "  )\n",
        "\n",
        "tokenized_datasets = raw_datasets.map(\n",
        "  tokenize_and_chunk, batched=True, remove_columns=[\"text\"]\n",
        ")\n",
        "\n",
        "len(raw_datasets[\"train\"]), len(tokenized_datasets[\"train\"])\n",
        "\n",
        "      (36718, 47192)\n",
        "```\n",
        "\n",
        "This way of chunking is ideal if all of your text is very long. But this won't work nicely if there is a variety of lengths in the text. In this case the best option is to concatenate all of your text in one big string with a special token (depicted in orange) indicating when we pass from one document to another.\n",
        "\n",
        "![Figure: chunking on context length pieces](https://github.com/dimitarpg13/transformer_examples/blob/main/images/concatenate_in_one_big_string.png?raw=1)\n",
        "\n",
        "This is how this can be done in code:\n",
        "\n",
        "```python\n",
        "def tokenize_and_chunk(texts):\n",
        "  all_input_ids = []\n",
        "  for input_ids in tokenizer(texts[\"text\"])[\"input_ids\"]:\n",
        "    all_input_ids.extend(input_ids)\n",
        "    all_input_ids.append(tokenizer.eos_token_id)\n",
        "  \n",
        "  chunks = []\n",
        "  for idx in range(0, len(all_input_ids), context_length):\n",
        "    chunks.append(all_input_ids[idx: idx + context_length])\n",
        "  return {\"input_ids\": chunks}\n",
        "\n",
        "  tokenized_datasets = raw_datasets.map(tokenize_and_chunk, batched=True, remove_columns=[\"text\"])\n",
        "\n",
        "  len(raw_datasets[\"train\"]), len(tokenized_datasets[\"train\"])\n",
        "```\n",
        "\n",
        "The masking itself is done in a `DataCollator` instance:\n",
        "\n",
        "```python\n",
        "from transformers import DataCollatorForLanguageModeling\n",
        "\n",
        "data_collator = DataCollatorForLanguageModeling(tokenizer, mlm_probability=0.15)\n",
        "\n",
        "```\n",
        "or\n",
        "```python\n",
        "from transformers import DataCollatorForLanguageModeling\n",
        "\n",
        "data_collator = DataCollatorForLanguageModeling(\n",
        "   tokenizer, mlm_probability=0.15, return_tensors=\"tf\"\n",
        ")\n",
        "```\n",
        "\n"
      ],
      "metadata": {
        "id": "lFruQmIrxXnG"
      }
    },
    {
      "cell_type": "markdown",
      "source": [
        "So the next step is to load a DistilRoBERTa tokenizer to process the `text` subfield:"
      ],
      "metadata": {
        "id": "us-KXLabu78r"
      }
    },
    {
      "cell_type": "code",
      "source": [
        "from transformers import AutoTokenizer\n",
        "\n",
        "tokenizer = AutoTokenizer.from_pretrained(\"distilbert/distilroberta-base\")"
      ],
      "metadata": {
        "id": "wnbwr-uwypUE"
      },
      "execution_count": null,
      "outputs": []
    },
    {
      "cell_type": "markdown",
      "source": [
        "Notice from the example above that the `text` field is actually nested inside `answers`. This means we need to extract the `text` subfield from its nested structure with the `flatten` method:"
      ],
      "metadata": {
        "id": "TaCUlgonDjfY"
      }
    },
    {
      "cell_type": "code",
      "source": [
        "eli5 = eli5.flatten()\n",
        "eli5[\"train\"][0]"
      ],
      "metadata": {
        "id": "B7KYtD8zDw-j",
        "outputId": "ad005a73-278b-427a-a8e7-5a1f75bbc5c7",
        "colab": {
          "base_uri": "https://localhost:8080/"
        }
      },
      "execution_count": 6,
      "outputs": [
        {
          "output_type": "execute_result",
          "data": {
            "text/plain": [
              "{'q_id': '7fcg3w',\n",
              " 'title': \"Why is it when a woman gets an epidural, there's a chance she'll always have some sort of pain that can't be treated for the rest of her life?\",\n",
              " 'selftext': '',\n",
              " 'category': 'Biology',\n",
              " 'subreddit': 'explainlikeimfive',\n",
              " 'answers.a_id': ['dqb0b2w'],\n",
              " 'answers.text': ['An epidural works by injecting medication directly into the space around the spinal chord. That means if anything goes wrong, it can directly damage the nerves of the spinal chord. That can lead to all kinds of complications.'],\n",
              " 'answers.score': [10],\n",
              " 'answers.text_urls': [[]],\n",
              " 'title_urls': ['url'],\n",
              " 'selftext_urls': ['url']}"
            ]
          },
          "metadata": {},
          "execution_count": 6
        }
      ]
    },
    {
      "cell_type": "code",
      "source": [],
      "metadata": {
        "id": "nQ110icTEBOi"
      },
      "execution_count": null,
      "outputs": []
    }
  ]
}